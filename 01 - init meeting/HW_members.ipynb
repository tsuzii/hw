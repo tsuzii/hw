{
 "cells": [
  {
   "cell_type": "code",
   "execution_count": 1,
   "id": "1f76fe95",
   "metadata": {},
   "outputs": [
    {
     "name": "stdout",
     "output_type": "stream",
     "text": [
      "(['Александр', 'Сергей'], 'Кирилл')\n",
      "(['Резеда', 'Кирилл'], 'Ринат')\n",
      "(['Лилия', 'Дмитрий'], 'Сергей')\n",
      "(['Андрей', 'Ринат'], 'Дмитрий')\n"
     ]
    }
   ],
   "source": [
    "import random\n",
    "\n",
    "members = [\n",
    "    'Андрей',\n",
    "    'Дмитрий',\n",
    "    'Кирилл',\n",
    "    'Лилия',\n",
    "    'Ринат',\n",
    "    'Сергей',\n",
    "    'Александр',\n",
    "    'Резеда'\n",
    "]\n",
    "\n",
    "random.shuffle(members)\n",
    "\n",
    "groups = []\n",
    "for i in  range(0, len(members), 2):\n",
    "    groups.append(members[i:i+2])\n",
    "\n",
    "# print(groups)\n",
    "pros = [pair[1] for pair in groups]\n",
    "# print(pros)\n",
    "\n",
    "\n",
    "while True:\n",
    "    random.shuffle(pros)\n",
    "    groups_with_review = list(zip(groups, pros))\n",
    "    for pair, pro in groups_with_review:\n",
    "        if pro in pair:\n",
    "            break\n",
    "    else:\n",
    "        break\n",
    "\n",
    "print(*groups_with_review, sep='\\n')\n"
   ]
  },
  {
   "cell_type": "code",
   "execution_count": null,
   "id": "46dbc920",
   "metadata": {},
   "outputs": [],
   "source": []
  }
 ],
 "metadata": {
  "kernelspec": {
   "display_name": "Python 3 (ipykernel)",
   "language": "python",
   "name": "python3"
  },
  "language_info": {
   "codemirror_mode": {
    "name": "ipython",
    "version": 3
   },
   "file_extension": ".py",
   "mimetype": "text/x-python",
   "name": "python",
   "nbconvert_exporter": "python",
   "pygments_lexer": "ipython3",
   "version": "3.9.13"
  }
 },
 "nbformat": 4,
 "nbformat_minor": 5
}
